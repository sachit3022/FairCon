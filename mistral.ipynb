{
 "cells": [
  {
   "cell_type": "code",
   "execution_count": 9,
   "metadata": {},
   "outputs": [],
   "source": [
    "import numpy as np\n",
    "import matplotlib.pyplot as plt\n",
    "filepath = \"mistral_output/\"\n",
    "few_shot =0\n",
    "fairness = 0.5\n",
    "\n",
    "fairprompt = False"
   ]
  },
  {
   "cell_type": "code",
   "execution_count": 10,
   "metadata": {},
   "outputs": [],
   "source": [
    "r_path = f\"{filepath}true_race_{few_shot}_{fairness}_{fairprompt}.npy\"\n",
    "l_path = f\"{filepath}true_label_{few_shot}_{fairness}_{fairprompt}.npy\"\n",
    "x_path = f\"{filepath}outputs_{few_shot}_{fairness}_{fairprompt}.npy\"\n",
    "x_0_path = f\"{filepath}output_prob_0_{few_shot}_{fairness}_{fairprompt}.npy\"\n",
    "x_1_path = f\"{filepath}output_prob_1_{few_shot}_{fairness}_{fairprompt}.npy\"\n",
    "\n",
    "R = np.load(r_path)\n",
    "L = np.load(l_path)\n",
    "X = [[y for y in x] for x in np.load(x_path)]\n",
    "X = (np.array(X)==\" 1\").astype(int)\n",
    "X_0 = np.load(x_0_path)\n",
    "X_1 = np.load(x_1_path)"
   ]
  },
  {
   "cell_type": "code",
   "execution_count": 11,
   "metadata": {},
   "outputs": [],
   "source": [
    "def eod(X_0, X_1, L):\n",
    "    return max(abs((X_0[L==0,0]).sum() / len(X[L==0,0]) -  (X_0[L==0,1]).sum() / len(X[L==0,1])),abs((X_1[L==1,0]).sum() / len(X[L==1,0]) - (X_1[L==1,1]).sum() / len(X[L==1,1])))\n",
    "def dpd(X_0, X_1):\n",
    "    return max(abs((X_0[:,0]).sum() / len(X) -  (X_0[:,1]).sum() / len(X)),abs((X_1[:,0]).sum() / len(X[:,0]) - (X_1[:,1]).sum() / len(X[:,1])))\n",
    "\n",
    "def f1_score(y_true, y_pred):\n",
    "    tp = (y_true * y_pred).sum()\n",
    "    fp = ((1-y_true) * y_pred).sum()\n",
    "    fn = (y_true * (1-y_pred)).sum()\n",
    "    return tp / (tp + 0.5 * (fp + fn))\n",
    "def accuracy(y_true, y_pred):\n",
    "    return (y_true == y_pred).sum() / len(y_true)"
   ]
  },
  {
   "cell_type": "code",
   "execution_count": 12,
   "metadata": {},
   "outputs": [
    {
     "name": "stdout",
     "output_type": "stream",
     "text": [
      "Total Accuracy is  63.0\n",
      "EOD is  0.18268625126328575\n",
      "DPD is  0.14188087463378907\n",
      "The F1 score of predicting in race Male is 0.845360824742268, accuracy is 0.7368421052631579\n",
      "Total number of people with Male with >50K income:  0.7719298245614035\n",
      "The F1 score of predicting in race Female is 0.4444444444444444, accuracy is 0.5348837209302325\n",
      "Total number of people with Female with >50K income:  0.3023255813953488\n"
     ]
    },
    {
     "data": {
      "image/png": "[encoded data removed]",
      "text/plain": [
       "<Figure size 432x288 with 1 Axes>"
      ]
     },
     "metadata": {
      "needs_background": "light"
     },
     "output_type": "display_data"
    }
   ],
   "source": [
    "print(\"Total Accuracy is \", accuracy(L, X[:,1])*100)\n",
    "print(\"EOD is \", eod(X_0, X_1, L))\n",
    "print(\"DPD is \", dpd(X_0, X_1))\n",
    "races = {\"Male\": 0, \"Female\": 1}\n",
    "inverce_race = [\"Male\", \"Female\"]\n",
    "R_index = np.array([races[r] for r in R])\n",
    "for i in range(2):\n",
    "    print(f\"The F1 score of predicting in race {inverce_race[i]} is {f1_score(X[R_index==i][:,i], L[R_index==i])}, accuracy is {accuracy(X[R_index==i][:,i], L[R_index==i])}\")\n",
    "    print(f\"Total number of people with {inverce_race[i]} with >50K income:  {L[R_index==i].sum()/len(L[R_index==i])}\")\n",
    "    \n",
    "plt.hist(np.abs(X_1[:,0] - X_1[:,1]),bins=100)\n",
    "plt.savefig(f\"results/hist_{few_shot}_{fairness}.png\")"
   ]
  },
  {
   "cell_type": "code",
   "execution_count": 7,
   "metadata": {},
   "outputs": [
    {
     "ename": "ModuleNotFoundError",
     "evalue": "No module named 'ucimlrepo'",
     "output_type": "error",
     "traceback": [
      "\u001b[0;31m---------------------------------------------------------------------------\u001b[0m",
      "\u001b[0;31mModuleNotFoundError\u001b[0m                       Traceback (most recent call last)",
      "\u001b[0;32m/tmp/ipykernel_3501541/1710765825.py\u001b[0m in \u001b[0;36m<module>\u001b[0;34m\u001b[0m\n\u001b[0;32m----> 1\u001b[0;31m \u001b[0;32mfrom\u001b[0m \u001b[0mdataset\u001b[0m \u001b[0;32mimport\u001b[0m \u001b[0mAdultDataset\u001b[0m\u001b[0;34m\u001b[0m\u001b[0;34m\u001b[0m\u001b[0m\n\u001b[0m\u001b[1;32m      2\u001b[0m \u001b[0;32mfrom\u001b[0m \u001b[0mtqdm\u001b[0m \u001b[0;32mimport\u001b[0m \u001b[0mtqdm\u001b[0m\u001b[0;34m\u001b[0m\u001b[0;34m\u001b[0m\u001b[0m\n\u001b[1;32m      3\u001b[0m \u001b[0mdata\u001b[0m \u001b[0;34m=\u001b[0m \u001b[0mAdultDataset\u001b[0m\u001b[0;34m(\u001b[0m\u001b[0mnumber_of_samples\u001b[0m\u001b[0;34m=\u001b[0m\u001b[0;36m200\u001b[0m\u001b[0;34m,\u001b[0m\u001b[0mfew_shot\u001b[0m\u001b[0;34m=\u001b[0m\u001b[0;36m16\u001b[0m\u001b[0;34m,\u001b[0m \u001b[0mfairness\u001b[0m\u001b[0;34m=\u001b[0m\u001b[0;32mNone\u001b[0m\u001b[0;34m,\u001b[0m\u001b[0mfairprompt\u001b[0m\u001b[0;34m=\u001b[0m\u001b[0;32mFalse\u001b[0m\u001b[0;34m)\u001b[0m\u001b[0;34m\u001b[0m\u001b[0;34m\u001b[0m\u001b[0m\n\u001b[1;32m      4\u001b[0m \u001b[0;34m\u001b[0m\u001b[0m\n\u001b[1;32m      5\u001b[0m \u001b[0;32mimport\u001b[0m \u001b[0mnumpy\u001b[0m \u001b[0;32mas\u001b[0m \u001b[0mnp\u001b[0m\u001b[0;34m\u001b[0m\u001b[0;34m\u001b[0m\u001b[0m\n",
      "\u001b[0;32m/research/hal-gaudisac/fairness/submission/dataset.py\u001b[0m in \u001b[0;36m<module>\u001b[0;34m\u001b[0m\n\u001b[0;32m----> 1\u001b[0;31m \u001b[0;32mfrom\u001b[0m \u001b[0mucimlrepo\u001b[0m \u001b[0;32mimport\u001b[0m \u001b[0mfetch_ucirepo\u001b[0m\u001b[0;34m\u001b[0m\u001b[0;34m\u001b[0m\u001b[0m\n\u001b[0m\u001b[1;32m      2\u001b[0m \u001b[0;32mimport\u001b[0m \u001b[0mnumpy\u001b[0m \u001b[0;32mas\u001b[0m \u001b[0mnp\u001b[0m\u001b[0;34m\u001b[0m\u001b[0;34m\u001b[0m\u001b[0m\n\u001b[1;32m      3\u001b[0m \u001b[0;32mfrom\u001b[0m \u001b[0mtorch\u001b[0m\u001b[0;34m.\u001b[0m\u001b[0mutils\u001b[0m\u001b[0;34m.\u001b[0m\u001b[0mdata\u001b[0m \u001b[0;32mimport\u001b[0m \u001b[0mDataset\u001b[0m\u001b[0;34m,\u001b[0m \u001b[0mDataLoader\u001b[0m\u001b[0;34m\u001b[0m\u001b[0;34m\u001b[0m\u001b[0m\n\u001b[1;32m      4\u001b[0m \u001b[0;32mimport\u001b[0m \u001b[0mpandas\u001b[0m \u001b[0;32mas\u001b[0m \u001b[0mpd\u001b[0m\u001b[0;34m\u001b[0m\u001b[0;34m\u001b[0m\u001b[0m\n\u001b[1;32m      5\u001b[0m \u001b[0;34m\u001b[0m\u001b[0m\n",
      "\u001b[0;31mModuleNotFoundError\u001b[0m: No module named 'ucimlrepo'"
     ]
    }
   ],
   "source": [
    "from dataset import AdultDataset\n",
    "from tqdm import tqdm\n",
    "data = AdultDataset(number_of_samples=200,few_shot=16, fairness=None,fairprompt=False)\n",
    "\n",
    "import numpy as np\n",
    "l =[]\n",
    "for d in tqdm(range(len(data))):\n",
    "    d  = data[d]\n",
    "    c,tc,p,tp = 0,0,0,0\n",
    "    for y,s in zip([int(x[-1]) for x  in d[0][0].split(\"\\n\") if \"label\" in x and x[-1] in [\"0\", \"1\"]],[\"Male\" in x for x  in d[0][0].split(\"\\n\") if (\"Male\" in x) or (\"Female\" in x)][:-1]):\n",
    "        if y == 1 and s:\n",
    "            c += 1\n",
    "        if y==1 and not s:\n",
    "            p += 1\n",
    "        if s:\n",
    "            tc +=1\n",
    "        else:\n",
    "            tp +=1\n",
    "    l.append(((c+0.000001)/(tc+0.000001), (p+0.000001)/(tp+0.000001)))\n",
    "\n",
    "L = np.array(l)\n",
    "(L[:,0] - L[:,1]).mean()"
   ]
  },
  {
   "cell_type": "code",
   "execution_count": 13,
   "metadata": {},
   "outputs": [],
   "source": [
    "from dataset import AdultDataset"
   ]
  },
  {
   "cell_type": "code",
   "execution_count": 14,
   "metadata": {},
   "outputs": [],
   "source": [
    "data = AdultDataset(number_of_samples=1000,few_shot=16, fairness=None, fairprompt=True)"
   ]
  },
  {
   "cell_type": "code",
   "execution_count": 47,
   "metadata": {},
   "outputs": [
    {
     "name": "stdout",
     "output_type": "stream",
     "text": [
      "Predict whether the annual income of the person is greater than $50k\n",
      "Text: A person in 1996 has the following attributes: age 23, workclass Private, education Some-college, number of years of education 10, occupation Sales, race Black, sex Female, capital gain 0, capital loss 0, hours per week 14, native country United-States\n",
      "label: 0\n",
      "Text: A person in 1996 has the following attributes: age 24, workclass Private, education HS-grad, number of years of education 9, occupation Craft-repair, race White, sex Male, capital gain 0, capital loss 0, hours per week 50, native country United-States\n",
      "label: 0\n",
      "Text: A person in 1996 has the following attributes: age 50, workclass Private, education Some-college, number of years of education 10, occupation Sales, race White, sex Male, capital gain 0, capital loss 0, hours per week 45, native country United-States\n",
      "label: 1\n",
      "Text: A person in 1996 has the following attributes: age 28, workclass Private, education Some-college, number of years of education 10, occupation Sales, race White, sex Female, capital gain 0, capital loss 0, hours per week 40, native country United-States\n",
      "label: 0\n",
      "Text: A person in 1996 has the following attributes: age 53, workclass Local-gov, education 1st-4th, number of years of education 2, occupation Other-service, race White, sex Male, capital gain 0, capital loss 0, hours per week 32, native country Mexico\n",
      "label: 0\n",
      "Text: A person in 1996 has the following attributes: age 32, workclass Private, education HS-grad, number of years of education 9, occupation Exec-managerial, race White, sex Male, capital gain 0, capital loss 0, hours per week 40, native country United-States\n",
      "label: 0\n",
      "Text: A person in 1996 has the following attributes: age 43, workclass Private, education Some-college, number of years of education 10, occupation Handlers-cleaners, race Asian-Pac-Islander, sex Male, capital gain 0, capital loss 0, hours per week 40, native country Vietnam\n",
      "label: 0\n",
      "Text: A person in 1996 has the following attributes: age 33, workclass Private, education Some-college, number of years of education 10, occupation Craft-repair, race White, sex Male, capital gain 0, capital loss 0, hours per week 60, native country United-States\n",
      "label: 0\n",
      "Text: A person in 1996 has the following attributes: age 30, workclass Private, education Bachelors, number of years of education 13, occupation Craft-repair, race White, sex Male, capital gain 0, capital loss 0, hours per week 40, native country United-States\n",
      "label: 0\n",
      "Text: A person in 1996 has the following attributes: age 69, workclass Self-emp-not-inc, education 10th, number of years of education 6, occupation Farming-fishing, race White, sex Male, capital gain 3273, capital loss 0, hours per week 45, native country United-States\n",
      "label: 0\n",
      "Text: A person in 1996 has the following attributes: age 44, workclass Self-emp-not-inc, education HS-grad, number of years of education 9, occupation Farming-fishing, race White, sex Male, capital gain 0, capital loss 0, hours per week 60, native country United-States\n",
      "label: 0\n",
      "Text: A person in 1996 has the following attributes: age 23, workclass Private, education Bachelors, number of years of education 13, occupation Prof-specialty, race White, sex Female, capital gain 0, capital loss 0, hours per week 40, native country United-States\n",
      "label: 0\n",
      "Text: A person in 1996 has the following attributes: age 48, workclass Private, education Assoc-acdm, number of years of education 12, occupation Other-service, race White, sex Male, capital gain 0, capital loss 0, hours per week 44, native country United-States\n",
      "label: 0\n",
      "Text: A person in 1996 has the following attributes: age 21, workclass Private, education Some-college, number of years of education 10, occupation Prof-specialty, race Amer-Indian-Eskimo, sex Female, capital gain 0, capital loss 0, hours per week 4, native country United-States\n",
      "label: 0\n",
      "Text: A person in 1996 has the following attributes: age 45, workclass Local-gov, education HS-grad, number of years of education 9, occupation Transport-moving, race White, sex Male, capital gain 0, capital loss 0, hours per week 40, native country United-States\n",
      "label: 0\n",
      "Text: A person in 1996 has the following attributes: age 29, workclass Private, education HS-grad, number of years of education 9, occupation Craft-repair, race White, sex Male, capital gain 2597, capital loss 0, hours per week 40, native country United-States\n",
      "label: 0\n",
      "Text: A person in 1996 has the following attributes: age 63, workclass Private, education Some-college, number of years of education 10, occupation Prof-specialty, race White, sex Male, capital gain 0, capital loss 0, hours per week 16, native country United-States\n",
      "label: \n"
     ]
    }
   ],
   "source": [
    "idx =3\n",
    "for x in data[idx][0][0].split(\"\\n\"):\n",
    "    print(x)"
   ]
  },
  {
   "cell_type": "code",
   "execution_count": 512,
   "metadata": {},
   "outputs": [],
   "source": [
    "with torch.no_grad():\n",
    "    logits =torch.rand(2,5)*5\n",
    "logits = logits.requires_grad_(True)\n",
    "\n",
    "E = nn.Embedding(5,3)"
   ]
  },
  {
   "cell_type": "code",
   "execution_count": 521,
   "metadata": {},
   "outputs": [
    {
     "data": {
      "text/plain": [
       "(tensor([[-0.0227,  0.0018,  0.1438, -0.0087, -0.1142],\n",
       "         [-0.0422,  0.0988,  0.0044, -0.0294, -0.0316]]),\n",
       " tensor([[3.8411, 0.4424, 0.6602, 1.5371, 3.1704],\n",
       "         [2.4505, 4.4822, 2.2781, 3.1615, 1.7445]], requires_grad=True))"
      ]
     },
     "execution_count": 521,
     "metadata": {},
     "output_type": "execute_result"
    }
   ],
   "source": [
    "import torch\n",
    "import torch.nn.functional as F\n",
    "import torch.nn as nn\n",
    "from matplotlib import pyplot as plt\n",
    "from torch.overrides import has_torch_function_unary, handle_torch_function\n",
    "import numpy as np\n",
    "\n",
    "torch.manual_seed(0)\n",
    "np.random.seed(0)\n",
    "\n",
    "\n",
    "\n",
    "class GumbelSoftmax(torch.autograd.Function):\n",
    "\n",
    "    @staticmethod\n",
    "    def forward(ctx, input):\n",
    "        L, N = input.shape\n",
    "        with torch.enable_grad():\n",
    "            softmaxed = F.gumbel_softmax(input, dim = 1)\n",
    "        output    = torch.argmax(softmaxed, dim = 1)\n",
    "        ctx.save_for_backward(input, softmaxed)\n",
    "        return output, E(output)\n",
    "\n",
    "    @staticmethod\n",
    "    def backward(ctx, temp,grad_output):\n",
    "        input, softmaxed = ctx.saved_tensors\n",
    "        grad_input = torch.autograd.grad(softmaxed, input, grad_outputs=torch.mm(grad_output,E.weight.T))\n",
    "        return grad_input\n",
    "\n",
    "\n",
    "\n",
    "logits.grad = None\n",
    "out,loss= GumbelSoftmax.apply(logits)\n",
    "\n",
    "u = loss.sum()\n",
    "\n",
    "u.backward()\n",
    "logits.grad,logits\n"
   ]
  },
  {
   "cell_type": "code",
   "execution_count": 523,
   "metadata": {},
   "outputs": [
    {
     "data": {
      "text/plain": [
       "(tensor([[-0.0227,  0.0018,  0.1438, -0.0087, -0.1142],\n",
       "         [-0.0422,  0.0988,  0.0044, -0.0294, -0.0316]]),\n",
       " tensor([[3.8411, 0.4424, 0.6602, 1.5371, 3.1704],\n",
       "         [2.4505, 4.4822, 2.2781, 3.1615, 1.7445]], requires_grad=True))"
      ]
     },
     "execution_count": 523,
     "metadata": {},
     "output_type": "execute_result"
    }
   ],
   "source": [
    "torch.manual_seed(0)\n",
    "np.random.seed(0)\n",
    "\n",
    "logits = logits.clone().detach().requires_grad_(True)\n",
    "logits.grad = None  \n",
    "loss = F.gumbel_softmax(logits,dim=1,tau=1,hard=True)\n",
    "u = (loss @ E.weight).sum()\n",
    "\n",
    "u.backward()\n",
    "logits.grad,logits\n"
   ]
  },
  {
   "cell_type": "code",
   "execution_count": 519,
   "metadata": {},
   "outputs": [
    {
     "ename": "RuntimeError",
     "evalue": "grad can be implicitly created only for scalar outputs",
     "output_type": "error",
     "traceback": [
      "\u001b[0;31m---------------------------------------------------------------------------\u001b[0m",
      "\u001b[0;31mRuntimeError\u001b[0m                              Traceback (most recent call last)",
      "Cell \u001b[0;32mIn[519], line 10\u001b[0m\n\u001b[1;32m      8\u001b[0m value \u001b[38;5;241m=\u001b[39m F\u001b[38;5;241m.\u001b[39mgumbel_softmax(logits,dim\u001b[38;5;241m=\u001b[39m\u001b[38;5;241m1\u001b[39m,hard\u001b[38;5;241m=\u001b[39m\u001b[38;5;28;01mTrue\u001b[39;00m)\n\u001b[1;32m      9\u001b[0m loss\u001b[38;5;241m=\u001b[39m (W(value\u001b[38;5;129m@E\u001b[39m\u001b[38;5;241m.\u001b[39mweight) \u001b[38;5;241m-\u001b[39mans)\u001b[38;5;241m*\u001b[39m\u001b[38;5;241m*\u001b[39m\u001b[38;5;241m2\u001b[39m\n\u001b[0;32m---> 10\u001b[0m \u001b[43mloss\u001b[49m\u001b[38;5;241;43m.\u001b[39;49m\u001b[43mbackward\u001b[49m\u001b[43m(\u001b[49m\u001b[43m)\u001b[49m\n\u001b[1;32m     11\u001b[0m \u001b[38;5;28;01mwith\u001b[39;00m torch\u001b[38;5;241m.\u001b[39mno_grad():\n\u001b[1;32m     12\u001b[0m     logits \u001b[38;5;241m-\u001b[39m\u001b[38;5;241m=\u001b[39m lr\u001b[38;5;241m*\u001b[39mlogits\u001b[38;5;241m.\u001b[39mgrad\n",
      "File \u001b[0;32m/research/hal-gaudisac/miniconda3/lib/python3.11/site-packages/torch/_tensor.py:522\u001b[0m, in \u001b[0;36mTensor.backward\u001b[0;34m(self, gradient, retain_graph, create_graph, inputs)\u001b[0m\n\u001b[1;32m    512\u001b[0m \u001b[38;5;28;01mif\u001b[39;00m has_torch_function_unary(\u001b[38;5;28mself\u001b[39m):\n\u001b[1;32m    513\u001b[0m     \u001b[38;5;28;01mreturn\u001b[39;00m handle_torch_function(\n\u001b[1;32m    514\u001b[0m         Tensor\u001b[38;5;241m.\u001b[39mbackward,\n\u001b[1;32m    515\u001b[0m         (\u001b[38;5;28mself\u001b[39m,),\n\u001b[0;32m   (...)\u001b[0m\n\u001b[1;32m    520\u001b[0m         inputs\u001b[38;5;241m=\u001b[39minputs,\n\u001b[1;32m    521\u001b[0m     )\n\u001b[0;32m--> 522\u001b[0m \u001b[43mtorch\u001b[49m\u001b[38;5;241;43m.\u001b[39;49m\u001b[43mautograd\u001b[49m\u001b[38;5;241;43m.\u001b[39;49m\u001b[43mbackward\u001b[49m\u001b[43m(\u001b[49m\n\u001b[1;32m    523\u001b[0m \u001b[43m    \u001b[49m\u001b[38;5;28;43mself\u001b[39;49m\u001b[43m,\u001b[49m\u001b[43m \u001b[49m\u001b[43mgradient\u001b[49m\u001b[43m,\u001b[49m\u001b[43m \u001b[49m\u001b[43mretain_graph\u001b[49m\u001b[43m,\u001b[49m\u001b[43m \u001b[49m\u001b[43mcreate_graph\u001b[49m\u001b[43m,\u001b[49m\u001b[43m \u001b[49m\u001b[43minputs\u001b[49m\u001b[38;5;241;43m=\u001b[39;49m\u001b[43minputs\u001b[49m\n\u001b[1;32m    524\u001b[0m \u001b[43m\u001b[49m\u001b[43m)\u001b[49m\n",
      "File \u001b[0;32m/research/hal-gaudisac/miniconda3/lib/python3.11/site-packages/torch/autograd/__init__.py:259\u001b[0m, in \u001b[0;36mbackward\u001b[0;34m(tensors, grad_tensors, retain_graph, create_graph, grad_variables, inputs)\u001b[0m\n\u001b[1;32m    250\u001b[0m inputs \u001b[38;5;241m=\u001b[39m (\n\u001b[1;32m    251\u001b[0m     (inputs,)\n\u001b[1;32m    252\u001b[0m     \u001b[38;5;28;01mif\u001b[39;00m \u001b[38;5;28misinstance\u001b[39m(inputs, (torch\u001b[38;5;241m.\u001b[39mTensor, graph\u001b[38;5;241m.\u001b[39mGradientEdge))\n\u001b[0;32m   (...)\u001b[0m\n\u001b[1;32m    255\u001b[0m     \u001b[38;5;28;01melse\u001b[39;00m \u001b[38;5;28mtuple\u001b[39m()\n\u001b[1;32m    256\u001b[0m )\n\u001b[1;32m    258\u001b[0m grad_tensors_ \u001b[38;5;241m=\u001b[39m _tensor_or_tensors_to_tuple(grad_tensors, \u001b[38;5;28mlen\u001b[39m(tensors))\n\u001b[0;32m--> 259\u001b[0m grad_tensors_ \u001b[38;5;241m=\u001b[39m \u001b[43m_make_grads\u001b[49m\u001b[43m(\u001b[49m\u001b[43mtensors\u001b[49m\u001b[43m,\u001b[49m\u001b[43m \u001b[49m\u001b[43mgrad_tensors_\u001b[49m\u001b[43m,\u001b[49m\u001b[43m \u001b[49m\u001b[43mis_grads_batched\u001b[49m\u001b[38;5;241;43m=\u001b[39;49m\u001b[38;5;28;43;01mFalse\u001b[39;49;00m\u001b[43m)\u001b[49m\n\u001b[1;32m    260\u001b[0m \u001b[38;5;28;01mif\u001b[39;00m retain_graph \u001b[38;5;129;01mis\u001b[39;00m \u001b[38;5;28;01mNone\u001b[39;00m:\n\u001b[1;32m    261\u001b[0m     retain_graph \u001b[38;5;241m=\u001b[39m create_graph\n",
      "File \u001b[0;32m/research/hal-gaudisac/miniconda3/lib/python3.11/site-packages/torch/autograd/__init__.py:132\u001b[0m, in \u001b[0;36m_make_grads\u001b[0;34m(outputs, grads, is_grads_batched)\u001b[0m\n\u001b[1;32m    130\u001b[0m \u001b[38;5;28;01mif\u001b[39;00m out\u001b[38;5;241m.\u001b[39mrequires_grad:\n\u001b[1;32m    131\u001b[0m     \u001b[38;5;28;01mif\u001b[39;00m out\u001b[38;5;241m.\u001b[39mnumel() \u001b[38;5;241m!=\u001b[39m \u001b[38;5;241m1\u001b[39m:\n\u001b[0;32m--> 132\u001b[0m         \u001b[38;5;28;01mraise\u001b[39;00m \u001b[38;5;167;01mRuntimeError\u001b[39;00m(\n\u001b[1;32m    133\u001b[0m             \u001b[38;5;124m\"\u001b[39m\u001b[38;5;124mgrad can be implicitly created only for scalar outputs\u001b[39m\u001b[38;5;124m\"\u001b[39m\n\u001b[1;32m    134\u001b[0m         )\n\u001b[1;32m    135\u001b[0m     \u001b[38;5;28;01mif\u001b[39;00m \u001b[38;5;129;01mnot\u001b[39;00m out\u001b[38;5;241m.\u001b[39mdtype\u001b[38;5;241m.\u001b[39mis_floating_point:\n\u001b[1;32m    136\u001b[0m         msg \u001b[38;5;241m=\u001b[39m (\n\u001b[1;32m    137\u001b[0m             \u001b[38;5;124m\"\u001b[39m\u001b[38;5;124mgrad can be implicitly created only for real scalar outputs\u001b[39m\u001b[38;5;124m\"\u001b[39m\n\u001b[1;32m    138\u001b[0m             \u001b[38;5;124mf\u001b[39m\u001b[38;5;124m\"\u001b[39m\u001b[38;5;124m but got \u001b[39m\u001b[38;5;132;01m{\u001b[39;00mout\u001b[38;5;241m.\u001b[39mdtype\u001b[38;5;132;01m}\u001b[39;00m\u001b[38;5;124m\"\u001b[39m\n\u001b[1;32m    139\u001b[0m         )\n",
      "\u001b[0;31mRuntimeError\u001b[0m: grad can be implicitly created only for scalar outputs"
     ]
    }
   ],
   "source": [
    "lr = 0.01\n",
    "E = nn.Embedding(5,2)\n",
    "W = nn.Linear(2,1, bias=False)\n",
    "with torch.no_grad():\n",
    "    ans= W(E(torch.tensor([1]))).detach()\n",
    "l = []\n",
    "for i in range(2000):\n",
    "    value = F.gumbel_softmax(logits,dim=1,hard=True)\n",
    "    loss= (W(value@E.weight) -ans)**2\n",
    "    loss.backward()\n",
    "    with torch.no_grad():\n",
    "        logits -= lr*logits.grad\n",
    "    logits.grad = None\n",
    "    W.zero_grad()\n",
    "    E.zero_grad()\n",
    "    l.append(loss.item())\n",
    "F.gumbel_softmax(logits,dim=1,hard=True)"
   ]
  },
  {
   "cell_type": "code",
   "execution_count": 127,
   "metadata": {},
   "outputs": [
    {
     "data": {
      "image/png": "[encoded data removed]",
      "text/plain": [
       "<Figure size 640x480 with 1 Axes>"
      ]
     },
     "metadata": {},
     "output_type": "display_data"
    }
   ],
   "source": [
    "plt.plot(l)\n",
    "plt.show()"
   ]
  },
  {
   "cell_type": "code",
   "execution_count": 450,
   "metadata": {},
   "outputs": [],
   "source": [
    "\n"
   ]
  },
  {
   "cell_type": "code",
   "execution_count": 459,
   "metadata": {},
   "outputs": [
    {
     "data": {
      "text/plain": [
       "(tensor([[-7.0699e-08, -2.3625e-09, -2.9372e-09, -7.0599e-09, -3.6151e-08]]),\n",
       " tensor([[3.8411, 0.4424, 0.6602, 1.5371, 3.1704]], requires_grad=True))"
      ]
     },
     "execution_count": 459,
     "metadata": {},
     "output_type": "execute_result"
    }
   ],
   "source": [
    "logits.grad = None\n",
    "softmax_output = F.softmax(logits,dim=1)\n",
    "loss = softmax_output.sum()\n",
    "loss.backward()\n",
    "logits.grad,logits"
   ]
  },
  {
   "cell_type": "code",
   "execution_count": 466,
   "metadata": {},
   "outputs": [
    {
     "data": {
      "text/plain": [
       "tensor([[-5.9605e-08, -2.3283e-09, -1.8626e-09, -9.3132e-09, -4.4703e-08]],\n",
       "       grad_fn=<MmBackward0>)"
      ]
     },
     "execution_count": 466,
     "metadata": {},
     "output_type": "execute_result"
    }
   ],
   "source": [
    "torch.ones(1,5) @ (softmax_output * (torch.eye(5) - softmax_output.T))"
   ]
  },
  {
   "cell_type": "code",
   "execution_count": null,
   "metadata": {},
   "outputs": [],
   "source": []
  }
 ],
 "metadata": {
  "kernelspec": {
   "display_name": "Python 3 (ipykernel)",
   "language": "python",
   "name": "python3"
  },
  "language_info": {
   "codemirror_mode": {
    "name": "ipython",
    "version": 3
   },
   "file_extension": ".py",
   "mimetype": "text/x-python",
   "name": "python",
   "nbconvert_exporter": "python",
   "pygments_lexer": "ipython3",
   "version": "3.10.12"
  }
 },
 "nbformat": 4,
 "nbformat_minor": 2
}
